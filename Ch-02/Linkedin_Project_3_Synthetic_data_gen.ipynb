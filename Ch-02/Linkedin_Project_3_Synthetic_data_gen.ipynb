{
  "nbformat": 4,
  "nbformat_minor": 0,
  "metadata": {
    "colab": {
      "provenance": []
    },
    "kernelspec": {
      "name": "python3",
      "display_name": "Python 3"
    },
    "language_info": {
      "name": "python"
    }
  },
  "cells": [
    {
      "cell_type": "markdown",
      "source": [
        "<h3>To generate sythetic data, the resources needed are :-</h3>\n",
        "\n",
        "1) Clear idea of the required data\n",
        "\n",
        "2) Clear idea of the dataset format (JSON/CSV/TXT/Parquet)\n",
        "\n",
        "3) 3-5 distinct data examples ranging the entire corpus\n",
        "\n",
        "4) Anthropic API-Key"
      ],
      "metadata": {
        "id": "cETvT9V1ZSdd"
      }
    },
    {
      "cell_type": "code",
      "source": [
        "!pip install anthropic"
      ],
      "metadata": {
        "colab": {
          "base_uri": "https://localhost:8080/"
        },
        "id": "Khib4uuWeHvc",
        "outputId": "3a2fc5ae-df1e-4824-fa75-316dd1af61c2"
      },
      "execution_count": 1,
      "outputs": [
        {
          "output_type": "stream",
          "name": "stdout",
          "text": [
            "Collecting anthropic\n",
            "  Downloading anthropic-0.46.0-py3-none-any.whl.metadata (23 kB)\n",
            "Requirement already satisfied: anyio<5,>=3.5.0 in /usr/local/lib/python3.11/dist-packages (from anthropic) (3.7.1)\n",
            "Requirement already satisfied: distro<2,>=1.7.0 in /usr/local/lib/python3.11/dist-packages (from anthropic) (1.9.0)\n",
            "Requirement already satisfied: httpx<1,>=0.23.0 in /usr/local/lib/python3.11/dist-packages (from anthropic) (0.28.1)\n",
            "Requirement already satisfied: jiter<1,>=0.4.0 in /usr/local/lib/python3.11/dist-packages (from anthropic) (0.8.2)\n",
            "Requirement already satisfied: pydantic<3,>=1.9.0 in /usr/local/lib/python3.11/dist-packages (from anthropic) (2.10.6)\n",
            "Requirement already satisfied: sniffio in /usr/local/lib/python3.11/dist-packages (from anthropic) (1.3.1)\n",
            "Requirement already satisfied: typing-extensions<5,>=4.10 in /usr/local/lib/python3.11/dist-packages (from anthropic) (4.12.2)\n",
            "Requirement already satisfied: idna>=2.8 in /usr/local/lib/python3.11/dist-packages (from anyio<5,>=3.5.0->anthropic) (3.10)\n",
            "Requirement already satisfied: certifi in /usr/local/lib/python3.11/dist-packages (from httpx<1,>=0.23.0->anthropic) (2025.1.31)\n",
            "Requirement already satisfied: httpcore==1.* in /usr/local/lib/python3.11/dist-packages (from httpx<1,>=0.23.0->anthropic) (1.0.7)\n",
            "Requirement already satisfied: h11<0.15,>=0.13 in /usr/local/lib/python3.11/dist-packages (from httpcore==1.*->httpx<1,>=0.23.0->anthropic) (0.14.0)\n",
            "Requirement already satisfied: annotated-types>=0.6.0 in /usr/local/lib/python3.11/dist-packages (from pydantic<3,>=1.9.0->anthropic) (0.7.0)\n",
            "Requirement already satisfied: pydantic-core==2.27.2 in /usr/local/lib/python3.11/dist-packages (from pydantic<3,>=1.9.0->anthropic) (2.27.2)\n",
            "Downloading anthropic-0.46.0-py3-none-any.whl (223 kB)\n",
            "\u001b[2K   \u001b[90m━━━━━━━━━━━━━━━━━━━━━━━━━━━━━━━━━━━━━━━━\u001b[0m \u001b[32m223.2/223.2 kB\u001b[0m \u001b[31m3.4 MB/s\u001b[0m eta \u001b[36m0:00:00\u001b[0m\n",
            "\u001b[?25hInstalling collected packages: anthropic\n",
            "Successfully installed anthropic-0.46.0\n"
          ]
        }
      ]
    },
    {
      "cell_type": "code",
      "execution_count": 3,
      "metadata": {
        "id": "PXgNG5k3ZKIG"
      },
      "outputs": [],
      "source": [
        "import anthropic\n",
        "from google.colab import userdata\n",
        "\n",
        "\n",
        "API_KEY = userdata.get('ANTHROPIC_API_KEY')\n",
        "client = anthropic.Anthropic(api_key=API_KEY)"
      ]
    },
    {
      "cell_type": "code",
      "source": [
        "# JSON Format desired dataset\n",
        "# This will be the data context\n",
        "\n",
        "Examples = \"\"\"\n",
        "{\n",
        "    \"User\": \"How do I clear my browser cache?\",\n",
        "    \"Assistant\": \"To clear your browser cache, follow these steps:\\n\\n1. For Chrome:\\n   - Click the three dots in the top-right corner\\n   - Go to More tools > Clear browsing data\\n   - Select 'Cached images and files'\\n   - Choose the time range (e.g., 'All time')\\n   - Click 'Clear data'\\n\\n2. For Firefox:\\n   - Click the menu button and select Options\\n   - Select Privacy & Security panel\\n   - In the Cookies and Site Data section, click Clear Data\\n   - Check 'Cached Web Content' and click Clear\\n\\n3. For Safari:\\n   - Click Safari > Preferences\\n   - Go to the Advanced tab\\n   - Check 'Show Develop menu in menu bar'\\n   - Close the Preferences window\\n   - Click Develop in the menu bar\\n   - Select 'Empty Caches'\\n\\nClearing your cache can help resolve issues with website loading and displaying outdated content. Remember, this will sign you out of most websites.\"\n",
        "  },\n",
        "  {\n",
        "    \"User\": \"I'm getting a 'DLL not found' error when trying to run a program on Windows. How can I fix this?\",\n",
        "    \"Assistant\": \"A 'DLL not found' error occurs when Windows can't locate a necessary Dynamic Link Library file. Here's how to troubleshoot and potentially fix this issue:\\n\\n1. Identify the missing DLL:\\n   - Note the exact name of the DLL mentioned in the error message.\\n\\n2. Restart your computer:\\n   - Sometimes, a simple restart can resolve DLL issues.\\n\\n3. Update or reinstall the program:\\n   - Visit the software's official website and download the latest version.\\n   - Uninstall the current version before installing the new one.\\n\\n4. Restore the DLL file:\\n   - If you recently deleted the DLL, check your Recycle Bin and restore it.\\n   - If it's not there, you may need to extract it from the installation files or download it from a trusted source.\\n\\n5. Run a malware scan:\\n   - Use Windows Defender or another reputable antivirus to check for malware that might have corrupted the DLL.\\n\\n6. Use System File Checker:\\n   - Open Command Prompt as administrator\\n   - Type 'sfc /scannow' and press Enter\\n   - This will scan and attempt to repair corrupted system files\\n\\n7. Update Windows:\\n   - Go to Settings > Update & Security > Windows Update\\n   - Check for and install any available updates\\n\\n8. Register the DLL:\\n   - Open Command Prompt as administrator\\n   - Type 'regsvr32 [path\\\\filename.dll]' (replace with actual DLL path and name)\\n   - Press Enter\\n\\nIf these steps don't work, you may need to perform a Windows repair installation or consult with a professional technician. Always download DLLs only from trusted sources to avoid security risks.\"\n",
        "  },\n",
        "  {\n",
        "    \"User\": \"How can I set up automated backups for my small business data?\",\n",
        "    \"Assistant\": \"Setting up automated backups is crucial for protecting your small business data. Here's a comprehensive guide to help you establish a robust backup system:\\n\\n1. Determine what to back up:\\n   - Identify critical business data (financial records, customer information, project files, etc.)\\n   - Don't forget emails, databases, and configuration files\\n\\n2. Choose a backup strategy:\\n   - 3-2-1 Rule: 3 copies of data, on 2 different media types, with 1 copy off-site\\n   - Consider both full and incremental backups\\n\\n3. Select backup solutions:\\n   - Cloud-based options: Google Drive, Dropbox Business, Microsoft OneDrive, or dedicated services like Carbonite or Backblaze\\n   - Local options: External hard drives, NAS (Network Attached Storage) devices\\n   - Hybrid approach: Combine local and cloud backups for maximum security\\n\\n4. Set up automated backups:\\n   - For Windows:\\n     * Use built-in File History or Backup and Restore features\\n     * Schedule in Control Panel > System and Security > Backup and Restore\\n   - For Mac:\\n     * Use Time Machine\\n     * Select 'Back Up Automatically' in System Preferences > Time Machine\\n   - For cloud services:\\n     * Install their software and configure auto-sync for important folders\\n\\n5. Configure backup frequency:\\n   - Critical data: Daily or real-time backups\\n   - Less critical: Weekly backups\\n   - Adjust based on how frequently your data changes\\n\\n6. Test your backups:\\n   - Regularly attempt to restore files from your backups\\n   - Ensure all necessary data is being captured\\n\\n7. Implement security measures:\\n   - Encrypt sensitive data before backing up\\n   - Use strong passwords for backup accounts\\n   - For physical backups, store in a secure, off-site location\\n\\n8. Document your backup process:\\n   - Create a written policy detailing backup procedures\\n   - Ensure key employees know how to access backups if needed\\n\\n9. Monitor and maintain:\\n   - Regularly check backup logs for errors\\n   - Update your backup solution when new versions are available\\n   - Reassess your backup needs as your business grows\\n\\nRemember, the best backup system is one that runs automatically and is regularly verified. By following these steps, you'll create a reliable safety net for your business data.\"\n",
        "  }\n",
        "\"\"\"\n",
        "\n",
        "\n",
        "System_Command = \"\"\"\n",
        "You are an expert software and IT support specialist.\n",
        "\"\"\"\n",
        "\n",
        "# User Query\n",
        "User_Prompt = \"\"\"\n",
        "Generate 10 diverse examples of technical support interactions covering a wide range of software and IT issues. Each example should include a user query and your detailed, correct response. Vary the complexity and types of issues across the examples. Structure your response as follows:\n",
        "\n",
        "{}\n",
        "\n",
        "For each response, include:\n",
        "\n",
        "> A clear explanation of the issue or task\n",
        "> Step-by-step instructions to resolve the problem or complete the task\n",
        "> Any necessary precautions or warnings\n",
        "> Explanation of why the solution works (if applicable)\n",
        "> Additional tips or best practices related to the issue\n",
        "> Only and Only include the examples in the response, nothing else\n",
        "\"\"\"\n",
        "\n",
        "\n",
        "\n",
        "\n"
      ],
      "metadata": {
        "id": "yzkVqJiNbA1D"
      },
      "execution_count": 4,
      "outputs": []
    },
    {
      "cell_type": "code",
      "source": [
        "response = client.messages.create(\n",
        "    model = \"claude-3-5-sonnet-20240620\",  # Model changes depending upon the complexity of the data to be generated\n",
        "    max_tokens=4096,\n",
        "    messages = [{\"role\": \"user\", \"content\": User_Prompt.format(Examples)}],\n",
        "    system = System_Command,\n",
        "    temperature=0.9\n",
        ")\n",
        "print(response)  # Copyable json format"
      ],
      "metadata": {
        "id": "1J-RSU-ZfL6P",
        "colab": {
          "base_uri": "https://localhost:8080/"
        },
        "outputId": "163a4f53-1f29-47eb-d8dd-49bfd40318e5"
      },
      "execution_count": 6,
      "outputs": [
        {
          "output_type": "stream",
          "name": "stdout",
          "text": [
            "Message(id='msg_01KDWimtpijEj5EQ9VYzbZBz', content=[TextBlock(citations=None, text='{\\n  \"User\": \"How do I clear my browser cache?\",\\n  \"Assistant\": \"To clear your browser cache, follow these steps:\\n\\n1. For Chrome:\\n   - Click the three dots in the top-right corner\\n   - Go to More tools > Clear browsing data\\n   - Select \\'Cached images and files\\'\\n   - Choose the time range (e.g., \\'All time\\')\\n   - Click \\'Clear data\\'\\n\\n2. For Firefox:\\n   - Click the menu button and select Options\\n   - Select Privacy & Security panel\\n   - In the Cookies and Site Data section, click Clear Data\\n   - Check \\'Cached Web Content\\' and click Clear\\n\\n3. For Safari:\\n   - Click Safari > Preferences\\n   - Go to the Advanced tab\\n   - Check \\'Show Develop menu in menu bar\\'\\n   - Close the Preferences window\\n   - Click Develop in the menu bar\\n   - Select \\'Empty Caches\\'\\n\\nClearing your cache can help resolve issues with website loading and displaying outdated content. Remember, this will sign you out of most websites.\"\\n},\\n{\\n  \"User\": \"I\\'m getting a \\'DLL not found\\' error when trying to run a program on Windows. How can I fix this?\",\\n  \"Assistant\": \"A \\'DLL not found\\' error occurs when Windows can\\'t locate a necessary Dynamic Link Library file. Here\\'s how to troubleshoot and potentially fix this issue:\\n\\n1. Identify the missing DLL:\\n   - Note the exact name of the DLL mentioned in the error message.\\n\\n2. Restart your computer:\\n   - Sometimes, a simple restart can resolve DLL issues.\\n\\n3. Update or reinstall the program:\\n   - Visit the software\\'s official website and download the latest version.\\n   - Uninstall the current version before installing the new one.\\n\\n4. Restore the DLL file:\\n   - If you recently deleted the DLL, check your Recycle Bin and restore it.\\n   - If it\\'s not there, you may need to extract it from the installation files or download it from a trusted source.\\n\\n5. Run a malware scan:\\n   - Use Windows Defender or another reputable antivirus to check for malware that might have corrupted the DLL.\\n\\n6. Use System File Checker:\\n   - Open Command Prompt as administrator\\n   - Type \\'sfc /scannow\\' and press Enter\\n   - This will scan and attempt to repair corrupted system files\\n\\n7. Update Windows:\\n   - Go to Settings > Update & Security > Windows Update\\n   - Check for and install any available updates\\n\\n8. Register the DLL:\\n   - Open Command Prompt as administrator\\n   - Type \\'regsvr32 [path\\\\\\\\filename.dll]\\' (replace with actual DLL path and name)\\n   - Press Enter\\n\\nIf these steps don\\'t work, you may need to perform a Windows repair installation or consult with a professional technician. Always download DLLs only from trusted sources to avoid security risks.\"\\n},\\n{\\n  \"User\": \"How can I set up automated backups for my small business data?\",\\n  \"Assistant\": \"Setting up automated backups is crucial for protecting your small business data. Here\\'s a comprehensive guide to help you establish a robust backup system:\\n\\n1. Determine what to back up:\\n   - Identify critical business data (financial records, customer information, project files, etc.)\\n   - Don\\'t forget emails, databases, and configuration files\\n\\n2. Choose a backup strategy:\\n   - 3-2-1 Rule: 3 copies of data, on 2 different media types, with 1 copy off-site\\n   - Consider both full and incremental backups\\n\\n3. Select backup solutions:\\n   - Cloud-based options: Google Drive, Dropbox Business, Microsoft OneDrive, or dedicated services like Carbonite or Backblaze\\n   - Local options: External hard drives, NAS (Network Attached Storage) devices\\n   - Hybrid approach: Combine local and cloud backups for maximum security\\n\\n4. Set up automated backups:\\n   - For Windows:\\n     * Use built-in File History or Backup and Restore features\\n     * Schedule in Control Panel > System and Security > Backup and Restore\\n   - For Mac:\\n     * Use Time Machine\\n     * Select \\'Back Up Automatically\\' in System Preferences > Time Machine\\n   - For cloud services:\\n     * Install their software and configure auto-sync for important folders\\n\\n5. Configure backup frequency:\\n   - Critical data: Daily or real-time backups\\n   - Less critical: Weekly backups\\n   - Adjust based on how frequently your data changes\\n\\n6. Test your backups:\\n   - Regularly attempt to restore files from your backups\\n   - Ensure all necessary data is being captured\\n\\n7. Implement security measures:\\n   - Encrypt sensitive data before backing up\\n   - Use strong passwords for backup accounts\\n   - For physical backups, store in a secure, off-site location\\n\\n8. Document your backup process:\\n   - Create a written policy detailing backup procedures\\n   - Ensure key employees know how to access backups if needed\\n\\n9. Monitor and maintain:\\n   - Regularly check backup logs for errors\\n   - Update your backup solution when new versions are available\\n   - Reassess your backup needs as your business grows\\n\\nRemember, the best backup system is one that runs automatically and is regularly verified. By following these steps, you\\'ll create a reliable safety net for your business data.\"\\n},\\n{\\n  \"User\": \"My laptop\\'s battery is draining too quickly. What can I do to improve its life?\",\\n  \"Assistant\": \"Battery life is a common concern for laptop users. Here are several steps you can take to improve your laptop\\'s battery life:\\n\\n1. Adjust power settings:\\n   - Go to Control Panel > Power Options (Windows) or System Preferences > Energy Saver (Mac)\\n   - Choose a power-saving plan or create a custom one\\n\\n2. Reduce screen brightness:\\n   - Use the function keys or settings to lower screen brightness\\n   - This can significantly impact battery life\\n\\n3. Limit background processes:\\n   - Close unnecessary programs and browser tabs\\n   - Use Task Manager (Windows) or Activity Monitor (Mac) to identify power-hungry apps\\n\\n4. Disable unnecessary features:\\n   - Turn off Wi-Fi, Bluetooth, and GPS when not in use\\n   - Disable keyboard backlighting if your laptop has it\\n\\n5. Update your operating system and drivers:\\n   - Newer versions often include power management improvements\\n\\n6. Avoid extreme temperatures:\\n   - Keep your laptop between 50°F and 95°F (10°C to 35°C) for optimal battery performance\\n\\n7. Calibrate your battery:\\n   - For older laptops, occasionally let the battery drain completely, then fully charge it\\n   - Modern lithium-ion batteries don\\'t require this as often\\n\\n8. Check for battery health:\\n   - Use built-in tools like Windows Battery Report or macOS Battery Health\\n   - Consider replacing the battery if its capacity has significantly decreased\\n\\n9. Use battery-saving modes:\\n   - Enable Battery Saver (Windows) or Low Power Mode (Mac) when running low\\n\\n10. Adjust mail and sync settings:\\n    - Reduce the frequency of email checks and cloud syncs\\n\\n11. Invest in a cooling pad:\\n    - Overheating can cause increased power consumption\\n\\n12. Unplug unnecessary peripherals:\\n    - External drives, USB devices, and chargers can drain power\\n\\nRemember, battery life naturally degrades over time. If these steps don\\'t help, your battery might need replacement. Always use manufacturer-approved batteries and follow proper safety guidelines when handling or replacing laptop batteries.\"\\n},\\n{\\n  \"User\": \"I accidentally deleted an important file. How can I recover it?\",\\n  \"Assistant\": \"Accidentally deleting important files can be stressful, but there are several ways to potentially recover them:\\n\\n1. Check the Recycle Bin or Trash:\\n   - Windows: Double-click the Recycle Bin icon on the desktop\\n   - Mac: Click the Trash icon in the Dock\\n   - If the file is there, right-click and select \\'Restore\\'\\n\\n2. Use File History (Windows) or Time Machine (Mac):\\n   - Windows: Go to Control Panel > System and Security > File History\\n   - Mac: Open Time Machine from System Preferences\\n   - Navigate to the location where the file was and restore it\\n\\n3. Check for Previous Versions (Windows):\\n   - Right-click on the folder containing the deleted file\\n   - Select \\'Restore previous versions\\'\\n   - Choose a version from before the file was deleted\\n\\n4. Use data recovery software:\\n   - Download reputable recovery tools like Recuva, EaseUS Data Recovery, or Disk Drill\\n   - Install on a different drive to avoid overwriting the deleted file\\n   - Scan the drive and recover the file if found\\n\\n5. Restore from a backup:\\n   - If you use cloud storage or external backups, check these for the file\\n\\n6. Check your email or cloud services:\\n   - If you\\'ve emailed the file or stored it in cloud services, retrieve it from there\\n\\n7. Use Windows File Recovery (for Windows 10 2004 and later):\\n   - Download from Microsoft Store\\n   - Use command prompt to recover files\\n\\n8. For SSDs, act quickly:\\n   - SSDs use TRIM, which can make recovery difficult after a short time\\n\\n9. Professional data recovery services:\\n   - If the file is crucial and other methods fail, consider professional help\\n\\nPrecautions:\\n- Stop using the drive immediately to prevent overwriting\\n- Don\\'t save new data to the drive where the file was deleted\\n- Install recovery software on a different drive\\n\\nPrevention tips:\\n- Regularly backup important files\\n- Use cloud storage for critical documents\\n- Enable File History or Time Machine\\n\\nRemember, recovery isn\\'t guaranteed, especially if the file has been overwritten. Always maintain regular backups to prevent data loss in the future.\"\\n},\\n{\\n  \"User\": \"How do I set up a VPN on my Android phone?\",\\n  \"Assistant\": \"Setting up a VPN on your Android phone can enhance your online privacy and security. Here\\'s a step-by-step guide:\\n\\n1. Choose a VPN service:\\n   - Research reputable VPN providers (e.g., NordVPN, ExpressVPN, ProtonVPN)\\n   - Consider factors like speed, security features, and privacy policy\\n   - Many offer free trials or money-back guarantees\\n\\n2. Download the VPN app:\\n   - Go to Google Play Store\\n   - Search for your chosen VPN provider\\'s app\\n   - Tap \\'Install\\' and wait for the download to complete\\n\\n3. Set up the VPN:\\n   - Open the installed VPN app\\n   - Create an account or log in if you already have one\\n   - Follow the app\\'s setup wizard if available\\n\\n4. Configure VPN settings:\\n   - Most apps will have a simple \\'Connect\\' button\\n   - For advanced setup:\\n     * Go to Settings > Network & Internet > Advanced > VPN\\n     * Tap the \\'+\\' icon to add a new VPN configuration\\n     * Enter the details provided by your VPN service\\n\\n5. Connect to the VPN:\\n   - Open the VPN app and tap \\'Connect\\'\\n   - Or, go to Settings > Network & Internet > VPN and tap on your VPN name\\n\\n6. Verify the connection:\\n   - Look for a key or VPN icon in the status bar\\n   - You can also check your IP address online to confirm it\\'s changed\\n\\n7. Adjust settings (optional):\\n   - Many VPN apps offer additional features like:\\n     * Split tunneling (choosing which apps use the VPN)\\n     * Automatic connection on untrusted Wi-Fi networks\\n     * Selecting specific server locations\\n\\n8. Disconnect when not needed:\\n   - Open the VPN app and tap \\'Disconnect\\'\\n   - Or, pull down the notification shade and tap the VPN notification\\n\\nTips:\\n- Always keep your VPN app updated\\n- Be cautious of free VPN services; they may compromise your privacy\\n- Use a VPN when connecting to public Wi-Fi networks\\n- Some apps or services may not work properly with a VPN active\\n\\nRemember, while a VPN enhances privacy, it\\'s not a complete security solution. Continue to practice safe browsing habits and keep your device updated.\"\\n},\\n{\\n  \"User\": \"I\\'m experiencing slow internet speeds. How can I troubleshoot and improve my connection?\",\\n  \"Assistant\": \"Slow internet can be frustrating. Here\\'s a comprehensive guide to troubleshoot and potentially improve your connection:\\n\\n1. Run a speed test:\\n   - Use websites like speedtest.net or fast.com\\n   - Compare results with your plan\\'s promised speeds\\n\\n2. Restart your modem and router:\\n   - Unplug both devices for 30 seconds\\n   - Plug in the modem first, wait for it to fully boot, then the router\\n\\n3. Check for signal interference:\\n   - Move your router away from electronic devices\\n   - Ensure it\\'s in a central, open location\\n   - Consider switching to 5GHz band if available (less interference but shorter range)\\n\\n4. Update router firmware:\\n   - Log into your router\\'s admin panel\\n   - Look for firmware update option\\n   - Follow manufacturer\\'s instructions carefully\\n\\n5. Scan for malware:\\n   - Use up-to-date antivirus software\\n   - Run a full system scan\\n\\n6. Check for bandwidth hogs:\\n   - Use Task Manager (Windows) or Activity Monitor (Mac) to identify high-bandwidth apps\\n   - Close unnecessary programs and limit simultaneous downloads\\n\\n7. Try a wired connection:\\n   - Connect your device directly to the router with an Ethernet cable\\n   - If speed improves significantly, Wi-Fi might be the issue\\n\\n8. Adjust router settings:\\n   - Change Wi-Fi channel to avoid congestion\\n   - Enable QoS (Quality of Service) to prioritize traffic\\n\\n9. Clear browser cache and cookies:\\n   - In your browser settings, clear browsing data\\n   - Consider using a different browser to rule out browser-specific issues\\n\\n10. Contact your ISP:\\n    - If issues persist, there might be a problem on their end\\n    - Ask about outages or maintenance in your area\\n\\n11. Consider upgrading your equipment:\\n    - Older routers might not support faster speeds\\n    - Check if your modem is compatible with your internet plan\\n\\n12. Optimize DNS settings:\\n    - Try using public DNS servers like Google (8.8.8.8 and 8.8.4.4) or Cloudflare (1.1.1.1)\\n\\n13. Check for physical line issues:\\n    - Inspect cables for damage\\n    - Ensure connections are secure\\n\\n14. Use a Wi-Fi analyzer app:\\n    - Identify congested channels and interference sources\\n\\n15. Consider a mesh network:\\n    - For large homes, mesh systems can provide better coverage\\n\\nRemember, internet speed can vary based on time of day, network congestion, and other factors. If problems persist after trying these steps, it may be worth considering a different ISP or plan.\"\\n},\\n{\\n  \"User\": \"How do I create a strong and memorable password?\",\\n  \"Assistant\": \"Creating a strong yet memorable password is crucial for online security. Here\\'s a guide to help you create effective passwords:\\n\\n1. Length is key:\\n   - Aim for at least 12-15 characters\\n   - Longer passwords are generally more secure\\n\\n2. Use a mix of characters:\\n   - Include uppercase and lowercase letters\\n   - Add numbers and special symbols (@, #, $, %, etc.)\\n\\n3. Avoid personal information:\\n   - Don\\'t use names, birthdates, or other easily guessable info\\n\\n4. Don\\'t use common substitutions:\\n   - Avoid obvious letter-to-number swaps (e.g., \\'password123\\' or \\'p@ssw0rd\\')\\n\\n5. Use passphrases:\\n   - Combine unrelated words (e.g., \\'CorrectHorseBatteryStaple\\')\\n   - Add numbers and symbols to make it stronger\\n\\n6. Use acronyms or sentences:\\n   - Take a memorable phrase and use the first letter of each word\\n   - Example: \\'I love eating pizza with extra cheese!\\' becomes \\'IlEpWec!\\'\\n\\n7. Avoid dictionary words:\\n   - Don\\'t use single words found in dictionaries\\n   - Combine words in unique ways if using a passphrase\\n\\n8. Make it unique for each account:\\n   - Don\\'t reuse passwords across different sites or services\\n\\n9. Use a password manager:\\n   - Tools like LastPass, 1Password, or Bitwarden can generate and store complex passwords\\n\\n10. Consider using two-factor authentication (2FA):\\n    - This adds an extra layer of security beyond just a password\\n\\n11. Periodic changes:\\n    - Change passwords regularly, especially for critical accounts\\n\\n12. Use mnemonics:\\n    - Create a story or pattern to remember your password\\n\\nExample of a strong, memorable password:\\n- Base phrase: \\'I enjoy 3 cups of coffee at 9am!\\'\\n- Password: \\'Ie3CoC@9am!\\'\\n\\nTips for remembering:\\n- Write down a hint, not the password itself\\n- Practice typing it several times\\n- Use it regularly to build muscle memory\\n\\nRemember, the goal is to create a password that\\'s difficult for others to guess but easy for you to remember. Never share your passwords, and be cautious of phishing attempts asking for your login information.\"\\n},\\n{\\n  \"User\": \"My computer is running very slowly. What steps can I take to speed it up?\",\\n  \"Assistant\": \"A slow computer can be frustrating, but there are several steps you can take to potentially speed it up:\\n\\n1. Restart your computer:\\n   - This clears temporary files and resets running processes\\n\\n2. Check for malware:\\n   ', type='text')], model='claude-3-5-sonnet-20240620', role='assistant', stop_reason='max_tokens', stop_sequence=None, type='message', usage=Usage(cache_creation_input_tokens=0, cache_read_input_tokens=0, input_tokens=1399, output_tokens=4096))\n"
          ]
        }
      ]
    },
    {
      "cell_type": "code",
      "source": [
        "import json\n",
        "json_object = json.loads(response.content[0].text)\n",
        "\n",
        "print(json_object)"
      ],
      "metadata": {
        "id": "tlQVDB89xlnQ",
        "outputId": "2e02736f-ed28-443c-dc03-3004d0df9595",
        "colab": {
          "base_uri": "https://localhost:8080/",
          "height": 157
        }
      },
      "execution_count": 9,
      "outputs": [
        {
          "output_type": "execute_result",
          "data": {
            "text/plain": [
              "'{\\n  \"User\": \"How do I clear my browser cache?\",\\n  \"Assistant\": \"To clear your browser cache, follow these steps:\\n\\n1. For Chrome:\\n   - Click the three dots in the top-right corner\\n   - Go to More tools > Clear browsing data\\n   - Select \\'Cached images and files\\'\\n   - Choose the time range (e.g., \\'All time\\')\\n   - Click \\'Clear data\\'\\n\\n2. For Firefox:\\n   - Click the menu button and select Options\\n   - Select Privacy & Security panel\\n   - In the Cookies and Site Data section, click Clear Data\\n   - Check \\'Cached Web Content\\' and click Clear\\n\\n3. For Safari:\\n   - Click Safari > Preferences\\n   - Go to the Advanced tab\\n   - Check \\'Show Develop menu in menu bar\\'\\n   - Close the Preferences window\\n   - Click Develop in the menu bar\\n   - Select \\'Empty Caches\\'\\n\\nClearing your cache can help resolve issues with website loading and displaying outdated content. Remember, this will sign you out of most websites.\"\\n},\\n{\\n  \"User\": \"I\\'m getting a \\'DLL not found\\' error when trying to run a program on Windows. How can I fix this?\",\\n  \"Assistant\": \"A \\'DLL not found\\' error occurs when Windows can\\'t locate a necessary Dynamic Link Library file. Here\\'s how to troubleshoot and potentially fix this issue:\\n\\n1. Identify the missing DLL:\\n   - Note the exact name of the DLL mentioned in the error message.\\n\\n2. Restart your computer:\\n   - Sometimes, a simple restart can resolve DLL issues.\\n\\n3. Update or reinstall the program:\\n   - Visit the software\\'s official website and download the latest version.\\n   - Uninstall the current version before installing the new one.\\n\\n4. Restore the DLL file:\\n   - If you recently deleted the DLL, check your Recycle Bin and restore it.\\n   - If it\\'s not there, you may need to extract it from the installation files or download it from a trusted source.\\n\\n5. Run a malware scan:\\n   - Use Windows Defender or another reputable antivirus to check for malware that might have corrupted the DLL.\\n\\n6. Use System File Checker:\\n   - Open Command Prompt as administrator\\n   - Type \\'sfc /scannow\\' and press Enter\\n   - This will scan and attempt to repair corrupted system files\\n\\n7. Update Windows:\\n   - Go to Settings > Update & Security > Windows Update\\n   - Check for and install any available updates\\n\\n8. Register the DLL:\\n   - Open Command Prompt as administrator\\n   - Type \\'regsvr32 [path\\\\\\\\filename.dll]\\' (replace with actual DLL path and name)\\n   - Press Enter\\n\\nIf these steps don\\'t work, you may need to perform a Windows repair installation or consult with a professional technician. Always download DLLs only from trusted sources to avoid security risks.\"\\n},\\n{\\n  \"User\": \"How can I set up automated backups for my small business data?\",\\n  \"Assistant\": \"Setting up automated backups is crucial for protecting your small business data. Here\\'s a comprehensive guide to help you establish a robust backup system:\\n\\n1. Determine what to back up:\\n   - Identify critical business data (financial records, customer information, project files, etc.)\\n   - Don\\'t forget emails, databases, and configuration files\\n\\n2. Choose a backup strategy:\\n   - 3-2-1 Rule: 3 copies of data, on 2 different media types, with 1 copy off-site\\n   - Consider both full and incremental backups\\n\\n3. Select backup solutions:\\n   - Cloud-based options: Google Drive, Dropbox Business, Microsoft OneDrive, or dedicated services like Carbonite or Backblaze\\n   - Local options: External hard drives, NAS (Network Attached Storage) devices\\n   - Hybrid approach: Combine local and cloud backups for maximum security\\n\\n4. Set up automated backups:\\n   - For Windows:\\n     * Use built-in File History or Backup and Restore features\\n     * Schedule in Control Panel > System and Security > Backup and Restore\\n   - For Mac:\\n     * Use Time Machine\\n     * Select \\'Back Up Automatically\\' in System Preferences > Time Machine\\n   - For cloud services:\\n     * Install their software and configure auto-sync for important folders\\n\\n5. Configure backup frequency:\\n   - Critical data: Daily or real-time backups\\n   - Less critical: Weekly backups\\n   - Adjust based on how frequently your data changes\\n\\n6. Test your backups:\\n   - Regularly attempt to restore files from your backups\\n   - Ensure all necessary data is being captured\\n\\n7. Implement security measures:\\n   - Encrypt sensitive data before backing up\\n   - Use strong passwords for backup accounts\\n   - For physical backups, store in a secure, off-site location\\n\\n8. Document your backup process:\\n   - Create a written policy detailing backup procedures\\n   - Ensure key employees know how to access backups if needed\\n\\n9. Monitor and maintain:\\n   - Regularly check backup logs for errors\\n   - Update your backup solution when new versions are available\\n   - Reassess your backup needs as your business grows\\n\\nRemember, the best backup system is one that runs automatically and is regularly verified. By following these steps, you\\'ll create a reliable safety net for your business data.\"\\n},\\n{\\n  \"User\": \"My laptop\\'s battery is draining too quickly. What can I do to improve its life?\",\\n  \"Assistant\": \"Battery life is a common concern for laptop users. Here are several steps you can take to improve your laptop\\'s battery life:\\n\\n1. Adjust power settings:\\n   - Go to Control Panel > Power Options (Windows) or System Preferences > Energy Saver (Mac)\\n   - Choose a power-saving plan or create a custom one\\n\\n2. Reduce screen brightness:\\n   - Use the function keys or settings to lower screen brightness\\n   - This can significantly impact battery life\\n\\n3. Limit background processes:\\n   - Close unnecessary programs and browser tabs\\n   - Use Task Manager (Windows) or Activity Monitor (Mac) to identify power-hungry apps\\n\\n4. Disable unnecessary features:\\n   - Turn off Wi-Fi, Bluetooth, and GPS when not in use\\n   - Disable keyboard backlighting if your laptop has it\\n\\n5. Update your operating system and drivers:\\n   - Newer versions often include power management improvements\\n\\n6. Avoid extreme temperatures:\\n   - Keep your laptop between 50°F and 95°F (10°C to 35°C) for optimal battery performance\\n\\n7. Calibrate your battery:\\n   - For older laptops, occasionally let the battery drain completely, then fully charge it\\n   - Modern lithium-ion batteries don\\'t require this as often\\n\\n8. Check for battery health:\\n   - Use built-in tools like Windows Battery Report or macOS Battery Health\\n   - Consider replacing the battery if its capacity has significantly decreased\\n\\n9. Use battery-saving modes:\\n   - Enable Battery Saver (Windows) or Low Power Mode (Mac) when running low\\n\\n10. Adjust mail and sync settings:\\n    - Reduce the frequency of email checks and cloud syncs\\n\\n11. Invest in a cooling pad:\\n    - Overheating can cause increased power consumption\\n\\n12. Unplug unnecessary peripherals:\\n    - External drives, USB devices, and chargers can drain power\\n\\nRemember, battery life naturally degrades over time. If these steps don\\'t help, your battery might need replacement. Always use manufacturer-approved batteries and follow proper safety guidelines when handling or replacing laptop batteries.\"\\n},\\n{\\n  \"User\": \"I accidentally deleted an important file. How can I recover it?\",\\n  \"Assistant\": \"Accidentally deleting important files can be stressful, but there are several ways to potentially recover them:\\n\\n1. Check the Recycle Bin or Trash:\\n   - Windows: Double-click the Recycle Bin icon on the desktop\\n   - Mac: Click the Trash icon in the Dock\\n   - If the file is there, right-click and select \\'Restore\\'\\n\\n2. Use File History (Windows) or Time Machine (Mac):\\n   - Windows: Go to Control Panel > System and Security > File History\\n   - Mac: Open Time Machine from System Preferences\\n   - Navigate to the location where the file was and restore it\\n\\n3. Check for Previous Versions (Windows):\\n   - Right-click on the folder containing the deleted file\\n   - Select \\'Restore previous versions\\'\\n   - Choose a version from before the file was deleted\\n\\n4. Use data recovery software:\\n   - Download reputable recovery tools like Recuva, EaseUS Data Recovery, or Disk Drill\\n   - Install on a different drive to avoid overwriting the deleted file\\n   - Scan the drive and recover the file if found\\n\\n5. Restore from a backup:\\n   - If you use cloud storage or external backups, check these for the file\\n\\n6. Check your email or cloud services:\\n   - If you\\'ve emailed the file or stored it in cloud services, retrieve it from there\\n\\n7. Use Windows File Recovery (for Windows 10 2004 and later):\\n   - Download from Microsoft Store\\n   - Use command prompt to recover files\\n\\n8. For SSDs, act quickly:\\n   - SSDs use TRIM, which can make recovery difficult after a short time\\n\\n9. Professional data recovery services:\\n   - If the file is crucial and other methods fail, consider professional help\\n\\nPrecautions:\\n- Stop using the drive immediately to prevent overwriting\\n- Don\\'t save new data to the drive where the file was deleted\\n- Install recovery software on a different drive\\n\\nPrevention tips:\\n- Regularly backup important files\\n- Use cloud storage for critical documents\\n- Enable File History or Time Machine\\n\\nRemember, recovery isn\\'t guaranteed, especially if the file has been overwritten. Always maintain regular backups to prevent data loss in the future.\"\\n},\\n{\\n  \"User\": \"How do I set up a VPN on my Android phone?\",\\n  \"Assistant\": \"Setting up a VPN on your Android phone can enhance your online privacy and security. Here\\'s a step-by-step guide:\\n\\n1. Choose a VPN service:\\n   - Research reputable VPN providers (e.g., NordVPN, ExpressVPN, ProtonVPN)\\n   - Consider factors like speed, security features, and privacy policy\\n   - Many offer free trials or money-back guarantees\\n\\n2. Download the VPN app:\\n   - Go to Google Play Store\\n   - Search for your chosen VPN provider\\'s app\\n   - Tap \\'Install\\' and wait for the download to complete\\n\\n3. Set up the VPN:\\n   - Open the installed VPN app\\n   - Create an account or log in if you already have one\\n   - Follow the app\\'s setup wizard if available\\n\\n4. Configure VPN settings:\\n   - Most apps will have a simple \\'Connect\\' button\\n   - For advanced setup:\\n     * Go to Settings > Network & Internet > Advanced > VPN\\n     * Tap the \\'+\\' icon to add a new VPN configuration\\n     * Enter the details provided by your VPN service\\n\\n5. Connect to the VPN:\\n   - Open the VPN app and tap \\'Connect\\'\\n   - Or, go to Settings > Network & Internet > VPN and tap on your VPN name\\n\\n6. Verify the connection:\\n   - Look for a key or VPN icon in the status bar\\n   - You can also check your IP address online to confirm it\\'s changed\\n\\n7. Adjust settings (optional):\\n   - Many VPN apps offer additional features like:\\n     * Split tunneling (choosing which apps use the VPN)\\n     * Automatic connection on untrusted Wi-Fi networks\\n     * Selecting specific server locations\\n\\n8. Disconnect when not needed:\\n   - Open the VPN app and tap \\'Disconnect\\'\\n   - Or, pull down the notification shade and tap the VPN notification\\n\\nTips:\\n- Always keep your VPN app updated\\n- Be cautious of free VPN services; they may compromise your privacy\\n- Use a VPN when connecting to public Wi-Fi networks\\n- Some apps or services may not work properly with a VPN active\\n\\nRemember, while a VPN enhances privacy, it\\'s not a complete security solution. Continue to practice safe browsing habits and keep your device updated.\"\\n},\\n{\\n  \"User\": \"I\\'m experiencing slow internet speeds. How can I troubleshoot and improve my connection?\",\\n  \"Assistant\": \"Slow internet can be frustrating. Here\\'s a comprehensive guide to troubleshoot and potentially improve your connection:\\n\\n1. Run a speed test:\\n   - Use websites like speedtest.net or fast.com\\n   - Compare results with your plan\\'s promised speeds\\n\\n2. Restart your modem and router:\\n   - Unplug both devices for 30 seconds\\n   - Plug in the modem first, wait for it to fully boot, then the router\\n\\n3. Check for signal interference:\\n   - Move your router away from electronic devices\\n   - Ensure it\\'s in a central, open location\\n   - Consider switching to 5GHz band if available (less interference but shorter range)\\n\\n4. Update router firmware:\\n   - Log into your router\\'s admin panel\\n   - Look for firmware update option\\n   - Follow manufacturer\\'s instructions carefully\\n\\n5. Scan for malware:\\n   - Use up-to-date antivirus software\\n   - Run a full system scan\\n\\n6. Check for bandwidth hogs:\\n   - Use Task Manager (Windows) or Activity Monitor (Mac) to identify high-bandwidth apps\\n   - Close unnecessary programs and limit simultaneous downloads\\n\\n7. Try a wired connection:\\n   - Connect your device directly to the router with an Ethernet cable\\n   - If speed improves significantly, Wi-Fi might be the issue\\n\\n8. Adjust router settings:\\n   - Change Wi-Fi channel to avoid congestion\\n   - Enable QoS (Quality of Service) to prioritize traffic\\n\\n9. Clear browser cache and cookies:\\n   - In your browser settings, clear browsing data\\n   - Consider using a different browser to rule out browser-specific issues\\n\\n10. Contact your ISP:\\n    - If issues persist, there might be a problem on their end\\n    - Ask about outages or maintenance in your area\\n\\n11. Consider upgrading your equipment:\\n    - Older routers might not support faster speeds\\n    - Check if your modem is compatible with your internet plan\\n\\n12. Optimize DNS settings:\\n    - Try using public DNS servers like Google (8.8.8.8 and 8.8.4.4) or Cloudflare (1.1.1.1)\\n\\n13. Check for physical line issues:\\n    - Inspect cables for damage\\n    - Ensure connections are secure\\n\\n14. Use a Wi-Fi analyzer app:\\n    - Identify congested channels and interference sources\\n\\n15. Consider a mesh network:\\n    - For large homes, mesh systems can provide better coverage\\n\\nRemember, internet speed can vary based on time of day, network congestion, and other factors. If problems persist after trying these steps, it may be worth considering a different ISP or plan.\"\\n},\\n{\\n  \"User\": \"How do I create a strong and memorable password?\",\\n  \"Assistant\": \"Creating a strong yet memorable password is crucial for online security. Here\\'s a guide to help you create effective passwords:\\n\\n1. Length is key:\\n   - Aim for at least 12-15 characters\\n   - Longer passwords are generally more secure\\n\\n2. Use a mix of characters:\\n   - Include uppercase and lowercase letters\\n   - Add numbers and special symbols (@, #, $, %, etc.)\\n\\n3. Avoid personal information:\\n   - Don\\'t use names, birthdates, or other easily guessable info\\n\\n4. Don\\'t use common substitutions:\\n   - Avoid obvious letter-to-number swaps (e.g., \\'password123\\' or \\'p@ssw0rd\\')\\n\\n5. Use passphrases:\\n   - Combine unrelated words (e.g., \\'CorrectHorseBatteryStaple\\')\\n   - Add numbers and symbols to make it stronger\\n\\n6. Use acronyms or sentences:\\n   - Take a memorable phrase and use the first letter of each word\\n   - Example: \\'I love eating pizza with extra cheese!\\' becomes \\'IlEpWec!\\'\\n\\n7. Avoid dictionary words:\\n   - Don\\'t use single words found in dictionaries\\n   - Combine words in unique ways if using a passphrase\\n\\n8. Make it unique for each account:\\n   - Don\\'t reuse passwords across different sites or services\\n\\n9. Use a password manager:\\n   - Tools like LastPass, 1Password, or Bitwarden can generate and store complex passwords\\n\\n10. Consider using two-factor authentication (2FA):\\n    - This adds an extra layer of security beyond just a password\\n\\n11. Periodic changes:\\n    - Change passwords regularly, especially for critical accounts\\n\\n12. Use mnemonics:\\n    - Create a story or pattern to remember your password\\n\\nExample of a strong, memorable password:\\n- Base phrase: \\'I enjoy 3 cups of coffee at 9am!\\'\\n- Password: \\'Ie3CoC@9am!\\'\\n\\nTips for remembering:\\n- Write down a hint, not the password itself\\n- Practice typing it several times\\n- Use it regularly to build muscle memory\\n\\nRemember, the goal is to create a password that\\'s difficult for others to guess but easy for you to remember. Never share your passwords, and be cautious of phishing attempts asking for your login information.\"\\n},\\n{\\n  \"User\": \"My computer is running very slowly. What steps can I take to speed it up?\",\\n  \"Assistant\": \"A slow computer can be frustrating, but there are several steps you can take to potentially speed it up:\\n\\n1. Restart your computer:\\n   - This clears temporary files and resets running processes\\n\\n2. Check for malware:\\n   '"
            ],
            "application/vnd.google.colaboratory.intrinsic+json": {
              "type": "string"
            }
          },
          "metadata": {},
          "execution_count": 9
        }
      ]
    },
    {
      "cell_type": "markdown",
      "source": [
        "The response includes the clean synthetic data examples\n"
      ],
      "metadata": {
        "id": "5pw23OnWf2-n"
      }
    },
    {
      "cell_type": "code",
      "source": [
        "# --- Appending ---\n",
        "\n",
        "# TXT\n",
        "with open('data.txt', 'a') as f:\n",
        "    f.write(response)\n",
        "\n",
        "# JSON\n",
        "import json\n",
        "def jsonify(response):\n",
        "    json_object = json.loads(response)\n",
        "    existing_data = []\n",
        "    existing_data.append(json_object)\n",
        "    with open(\"data.json\", 'w') as file:\n",
        "        json.dump(existing_data, file, indent=2)"
      ],
      "metadata": {
        "id": "UIq5hQdqgxw5"
      },
      "execution_count": null,
      "outputs": []
    },
    {
      "cell_type": "code",
      "source": [
        "# For generating the entire dataset\n",
        "\n",
        "for i in range(30): # 30*10 ->  300 examples\n",
        "    response = client.messages.create(\n",
        "        model = \"claude-3-5-sonnet-20240620\",  # Model changes depending upon the complexity of the data to be generated\n",
        "        max_tokens=4096,\n",
        "        messages = [{\"role\": \"user\", \"content\": User_Prompt.format(Examples)}],\n",
        "        system = System_Command,\n",
        "        temperature=0.9\n",
        "    )\n",
        "    jsonify(response)"
      ],
      "metadata": {
        "id": "6BtYYGz6Q1Nk"
      },
      "execution_count": null,
      "outputs": []
    }
  ]
}